{
 "cells": [
  {
   "cell_type": "markdown",
   "metadata": {},
   "source": [
    "Pig Latin\n",
    "\n",
    "    Pig Latin is a game of alterations played on the English language game. \n",
    "\n",
    "    Rules (Though there are many rules, this program does the following)\n",
    "\n",
    "    1. Words begining with Consonant sound - the initial consonant sound are placed at the end of the word and 'ay' is added\n",
    "    Ex.: \"pig\" = \"igpay\" \n",
    "     \"latin\" = \"atinlay\n",
    "\n",
    "    2. Words begining with vowel sounds - just add \"ay\" to the end\n",
    "    Ex.: \"eat\" =  \"eatay\"\n",
    "     \"omelet\" =  \"omeletay\"\n",
    "     \"are\" =  \"areay\"\n"
   ]
  },
  {
   "cell_type": "code",
   "execution_count": null,
   "metadata": {},
   "outputs": [],
   "source": [
    "def pigLatin():\n",
    "        input_string = input(\"Enter the word\")\n",
    "        if(input_string.isalpha()):\n",
    "            if(input_string.lower()[0] in ('a', 'e', 'i', 'o', 'u')):\n",
    "                return input_string + 'ay'\n",
    "            else:\n",
    "                return(input_string[1:] + input_string[0] + 'ay')\n",
    "        else:\n",
    "            return\n",
    "print(pigLatin())"
   ]
  },
  {
   "cell_type": "code",
   "execution_count": null,
   "metadata": {},
   "outputs": [],
   "source": []
  }
 ],
 "metadata": {
  "kernelspec": {
   "display_name": "Python 3",
   "language": "python",
   "name": "python3"
  },
  "language_info": {
   "codemirror_mode": {
    "name": "ipython",
    "version": 3
   },
   "file_extension": ".py",
   "mimetype": "text/x-python",
   "name": "python",
   "nbconvert_exporter": "python",
   "pygments_lexer": "ipython3",
   "version": "3.7.0"
  }
 },
 "nbformat": 4,
 "nbformat_minor": 2
}
