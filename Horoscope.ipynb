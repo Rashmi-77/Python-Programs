{
 "cells": [
  {
   "cell_type": "markdown",
   "metadata": {},
   "source": [
    "Horoscope Reading\n",
    "\n",
    "       This program takes in the user input of Zodiac sign and gives the daily horoscope of the sign. \n",
    "       It uses Beautiful Soup to get the data form Astrology.com."
   ]
  },
  {
   "cell_type": "code",
   "execution_count": null,
   "metadata": {},
   "outputs": [],
   "source": [
    "import requests\n",
    "from bs4 import BeautifulSoup\n",
    "\n",
    "def daily_horscope(zodiac):\n",
    "\n",
    "    url = \"https://www.astrology.com/horoscope/daily/today/\"+zodiac+\".html\"\n",
    "    \n",
    "    print(\"Today's horoscope of zodiac - \",zodiac)\n",
    "    \n",
    "    response = requests.get(url)\n",
    "    \n",
    "    if (response.status_code == 200):\n",
    "    \n",
    "        pages = BeautifulSoup(response.content,'html.parser')\n",
    "    \n",
    "        horoscope_data = pages.find_all('p')\n",
    "        for data in horoscope_data:\n",
    "            return(data.get_text())\n",
    "    else:\n",
    "        return \"Oops error!, Cant help!\" \n",
    "\n",
    "if __name__ == '__main__': \n",
    "    print(\"Welome to Today's Horoscope\")\n",
    "    print(daily_horscope(input(\"Enter the Zodiac Sign\")))\n"
   ]
  }
 ],
 "metadata": {
  "kernelspec": {
   "display_name": "Python 3",
   "language": "python",
   "name": "python3"
  },
  "language_info": {
   "codemirror_mode": {
    "name": "ipython",
    "version": 3
   },
   "file_extension": ".py",
   "mimetype": "text/x-python",
   "name": "python",
   "nbconvert_exporter": "python",
   "pygments_lexer": "ipython3",
   "version": "3.7.0"
  }
 },
 "nbformat": 4,
 "nbformat_minor": 2
}
