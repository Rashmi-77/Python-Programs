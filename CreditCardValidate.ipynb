{
 "cells": [
  {
   "cell_type": "markdown",
   "metadata": {},
   "source": [
    "Credit Card Validator - \n",
    "    The Luhn test is used by some credit card companies to distinguish valid credit card numbers from what could be a \n",
    "    random selection of digits.\n",
    "    \n",
    "    Takes in a credit card number from a common credit card vendor(Visa, MasterCard,American Express,Discover) \n",
    "    Validate it to make sure that it is a valid number using the Luhn test\n",
    "\n",
    "    1. Reverse the order of the digits in the number.\n",
    "    2. Take the first, third, ... and every other odd digit in the reversed digits and sum them to form the partial sum s1\n",
    "    3. Taking the second, fourth ... and every other even digit in the reversed digits:\n",
    "    4. Multiply each digit by two and sum the digits if the answer is greater than nine to form partial sums for the even \n",
    "        digits\n",
    "    5. Sum the partial sums of the even digits to form s2\n",
    "    6. If s1 + s2 ends in zero then the original number is in the form of a valid credit card number as verified by the Luhn \n",
    "        test.\n",
    "    "
   ]
  },
  {
   "cell_type": "code",
   "execution_count": null,
   "metadata": {},
   "outputs": [],
   "source": [
    "\n",
    "def reverse_no(number):\n",
    "    rev = 0\n",
    "    while(number > 0):\n",
    "        remainder = number % 10\n",
    "        rev = (rev * 10) + remainder\n",
    "        number = number // 10\n",
    "    return(rev)\n",
    "\n",
    "def partialSumOdd(number):    \n",
    "    s = str(number)\n",
    "    p_sum = 0\n",
    "    for i in range(0,len(s),2):        \n",
    "        p_sum +=int(s[i])\n",
    "    return (p_sum)\n",
    "\n",
    "def partialSumEven(number):    \n",
    "    s = str(number)\n",
    "    \n",
    "    p_sum = 0\n",
    "    \n",
    "    for i in range(1,len(s),2):     \n",
    "        \n",
    "        prod = str(int(s[i]) * 2 )\n",
    "    \n",
    "        digit_sum = 0\n",
    "        for j in range(len(prod)):                  \n",
    "            digit_sum+=int(prod[j])\n",
    "            \n",
    "        p_sum+=digit_sum\n",
    "        \n",
    "    return(p_sum)\n",
    "\n",
    "def final_check(odd,even):\n",
    "    total = odd+even\n",
    "    if total %10 == 0:\n",
    "        return \"Valid Credit Card\"\n",
    "    else:\n",
    "        return \"Invalid Credit Card\"\n",
    "    \n",
    "credit_card_no = int(input(\"Enter the Credit Card Number\"))\n",
    "\n",
    "reverse_card_no = reverse_no(credit_card_no)\n",
    "\n",
    "partial_sum_odd = partialSumOdd(reverse_card_no)\n",
    "partial_sum_even = partialSumEven(reverse_card_no)\n",
    "\n",
    "card_check = final_check(partial_sum_odd,partial_sum_even)\n",
    "\n",
    "print(card_check)\n"
   ]
  }
 ],
 "metadata": {
  "kernelspec": {
   "display_name": "Python 3",
   "language": "python",
   "name": "python3"
  },
  "language_info": {
   "codemirror_mode": {
    "name": "ipython",
    "version": 3
   },
   "file_extension": ".py",
   "mimetype": "text/x-python",
   "name": "python",
   "nbconvert_exporter": "python",
   "pygments_lexer": "ipython3",
   "version": "3.7.0"
  }
 },
 "nbformat": 4,
 "nbformat_minor": 2
}
