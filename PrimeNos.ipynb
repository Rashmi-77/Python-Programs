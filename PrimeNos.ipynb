{
 "cells": [
  {
   "cell_type": "markdown",
   "metadata": {},
   "source": [
    "Prime Number Generation\n",
    "\n",
    "Write a program to make a list of all prime numbers less than 3000. \n",
    "A prime number can only be divided evenly by 1 and itself."
   ]
  },
  {
   "cell_type": "code",
   "execution_count": null,
   "metadata": {},
   "outputs": [],
   "source": [
    "prime_list = []\n",
    "\n",
    "for number in range(2,3000):      \n",
    "    isprime = 0\n",
    "    for c in range(2,number):            \n",
    "        if(number%c) == 0:\n",
    "            isprime = 1\n",
    "            \n",
    "    if(isprime==0):\n",
    "        prime_list.append(number)\n",
    "\n",
    "print(prime_list)"
   ]
  }
 ],
 "metadata": {
  "kernelspec": {
   "display_name": "Python 3",
   "language": "python",
   "name": "python3"
  },
  "language_info": {
   "codemirror_mode": {
    "name": "ipython",
    "version": 3
   },
   "file_extension": ".py",
   "mimetype": "text/x-python",
   "name": "python",
   "nbconvert_exporter": "python",
   "pygments_lexer": "ipython3",
   "version": "3.7.0"
  }
 },
 "nbformat": 4,
 "nbformat_minor": 2
}
